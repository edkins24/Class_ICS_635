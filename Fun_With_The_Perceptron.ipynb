{
 "cells": [
  {
   "cell_type": "code",
   "execution_count": 1,
   "metadata": {
    "collapsed": true
   },
   "outputs": [],
   "source": [
    "%matplotlib inline\n",
    "import numpy as np\n",
    "import random as rm\n",
    "import math\n",
    "import matplotlib.pyplot as plt\n",
    "import statistics as stat"
   ]
  },
  {
   "cell_type": "markdown",
   "metadata": {},
   "source": [
    "## The Data Faker\n",
    "### This function randomly generates points and labels them according to whether they are above or below a line, either also randomly generated or user specified. The determines how many points to generate, whether the generatine line is random or not, and how far away from the generating line the points are required to be.  The data points are not allowed to all be on one side of the generating line - at least one point must be on the opposite side."
   ]
  },
  {
   "cell_type": "code",
   "execution_count": 2,
   "metadata": {
    "collapsed": true
   },
   "outputs": [],
   "source": [
    "def data_faker(N, m, b, c=1, gamma=0.0000001, rand_div = 'yes'):\n",
    "    \n",
    "    if rand_div == 'yes':\n",
    "        \n",
    "        cosine_sign_choice = rm.random()\n",
    "        \n",
    "        if cosine_sign_choice < 0.5:\n",
    "            cosine_sign = -1\n",
    "        else:\n",
    "            cosine_sign = 1\n",
    "            \n",
    "        cosine = cosine_sign * rm.random()\n",
    "        \n",
    "        angle = math.acos(cosine)\n",
    "        \n",
    "        m = math.sin(angle)/math.cos(angle)\n",
    "        \n",
    "        intercep_sign_choice = rm.random()\n",
    "        \n",
    "        if intercep_sign_choice < 0.5:\n",
    "            b_sign = -1\n",
    "        else:\n",
    "            b_sign = 1\n",
    "            \n",
    "        b = b_sign * rm.random()\n",
    "    \n",
    "    alpha = math.atan(m)\n",
    "    bd = gamma / math.cos(alpha)\n",
    "    \n",
    "    if 0<=abs(alpha)<45:\n",
    "        gamma_max = (1/math.cos(alpha))*c\n",
    "    elif 45<=abs(alpha)<90:\n",
    "        gamma_max = (1/math.sin(alpha))*c\n",
    "        \n",
    "    points = np.empty([N,3])\n",
    "        \n",
    "    if gamma > gamma_max:\n",
    "        print('gamma is greater than allowed gamma_max for this slope')\n",
    "        return points, m, b\n",
    "    \n",
    "    all_points_on_1_side = True\n",
    "    \n",
    "    while all_points_on_1_side:\n",
    "        for i in range(N):\n",
    "\n",
    "            good = 0\n",
    "\n",
    "            while good == 0:\n",
    "\n",
    "                x_sign_choice = rm.random()\n",
    "\n",
    "                if x_sign_choice < 0.5:\n",
    "                    x_sign = -1\n",
    "                else:\n",
    "                    x_sign = 1\n",
    "\n",
    "                x_i = x_sign * rm.random() *c\n",
    "                #---------------------------------------\n",
    "\n",
    "                y_sign_choice = rm.random()\n",
    "\n",
    "                if y_sign_choice < 0.5:\n",
    "                    y_sign = -1\n",
    "                else:\n",
    "                    y_sign = 1\n",
    "\n",
    "                y_i = y_sign * rm.random() *c\n",
    "                #----------------------------------------\n",
    "\n",
    "                if y_i < m*x_i+b:\n",
    "                    l_i = 1\n",
    "                elif y_i > m*x_i+b:\n",
    "                    l_i = -1\n",
    "\n",
    "                if l_i == 1 and y_i < m*x_i+(b-bd):\n",
    "                    good = 1\n",
    "                elif l_i ==-1 and y_i > m*x_i+(b+bd):\n",
    "                    good = 1\n",
    "\n",
    "            points[i,0] = x_i\n",
    "            points[i,1] = y_i\n",
    "            points[i,2] = l_i\n",
    "            \n",
    "        if abs(np.sum(points,0)[2]) != N:\n",
    "            all_points_on_1_side = False\n",
    "         \n",
    "    return points, m, b"
   ]
  },
  {
   "cell_type": "markdown",
   "metadata": {},
   "source": [
    "### The test function: used by the Perceptron algorithm to determine whether weight vector requires adjustment "
   ]
  },
  {
   "cell_type": "code",
   "execution_count": 3,
   "metadata": {
    "collapsed": true
   },
   "outputs": [],
   "source": [
    "step_function = lambda f: -1 if f <= 0 else 1"
   ]
  },
  {
   "cell_type": "markdown",
   "metadata": {},
   "source": [
    "## The Perceptron algorithm"
   ]
  },
  {
   "cell_type": "code",
   "execution_count": 17,
   "metadata": {
    "collapsed": true
   },
   "outputs": [],
   "source": [
    "def perceptron(points, w=(0,0,0), eta=0.5, n_iter=5000, video='no', m=0, b=0, vid_dir = './vid'):\n",
    "    \n",
    "    test_training = np.ones([len(points),4])\n",
    "    test_training[:,1:] =  points\n",
    "    \n",
    "    misclassed = True\n",
    "    num_slope_adjusts = 0\n",
    "    n = 0\n",
    "    num_points_tested = 0\n",
    "    slope = 0\n",
    "    intercept = 0\n",
    "    \n",
    "    while (misclassed and n < n_iter):\n",
    "        n += 1\n",
    "        wrong_line = 0\n",
    "        \n",
    "        for test_val in test_training:\n",
    "            point = test_val[:3]\n",
    "            desired = test_val[3]\n",
    "            result = np.dot(w, point)\n",
    "            f = step_function(result)\n",
    "            num_points_tested += 1\n",
    "            \n",
    "            if f != desired:\n",
    "                wrong_line += 1\n",
    "                num_slope_adjusts += 1\n",
    "                w += eta * desired * point\n",
    "                \n",
    "                if w[2] != 0:\n",
    "                    slope = -(w[1] / w[2])\n",
    "                    intercept = -(w[0] / w[2])\n",
    "                else:\n",
    "                    slope = 0\n",
    "                    intercept = 0\n",
    "                \n",
    "                if video == 'yes':\n",
    "                        scatter_plot_vid(points, m, b, \n",
    "                                         slope, intercept, \n",
    "                                         num_points_tested, vid_dir = './vid')\n",
    "        \n",
    "        if wrong_line == 0: \n",
    "            misclassed = False\n",
    "\n",
    "        \n",
    "    return slope, intercept, n, num_slope_adjusts"
   ]
  },
  {
   "cell_type": "markdown",
   "metadata": {},
   "source": [
    "### Theoretical maximum time to convergence, as measured by number of weight vector adjustments"
   ]
  },
  {
   "cell_type": "code",
   "execution_count": 18,
   "metadata": {
    "collapsed": true
   },
   "outputs": [],
   "source": [
    "def theoretical_function(w, gamma, c=10):\n",
    "    #number of weight vector adjustments = n\n",
    "    n_max = w*w*c*c/(gamma*gamma)\n",
    "    return n_max"
   ]
  },
  {
   "cell_type": "markdown",
   "metadata": {},
   "source": [
    "## Experiment 1: Number of weight vector adjustments vs Number of data points\n",
    "### NOTE: Large values of N require a VERY long iteration time!! Keep this in mind when choosing the range!"
   ]
  },
  {
   "cell_type": "code",
   "execution_count": 19,
   "metadata": {
    "collapsed": false
   },
   "outputs": [
    {
     "data": {
      "text/plain": [
       "<matplotlib.text.Text at 0x7fd89bc50a58>"
      ]
     },
     "execution_count": 19,
     "metadata": {},
     "output_type": "execute_result"
    },
    {
     "data": {
      "image/png": "[encoded data removed]",
      "text/plain": [
       "<matplotlib.figure.Figure at 0x7fd89e900080>"
      ]
     },
     "metadata": {},
     "output_type": "display_data"
    }
   ],
   "source": [
    "N = 0\n",
    "N_list = []\n",
    "k_ave_list = []\n",
    "k_SDM_list = []\n",
    "i = 0\n",
    "num_trials = 1000\n",
    "for N in range(10, 100, 10):\n",
    "    k_list = []\n",
    "    N_list.append(N)\n",
    "    for i in range(num_trials):\n",
    "        points, m, b = data_faker(N, 1, 0, c=10, rand_div='yes')\n",
    "        p_m, p_b, n, k = perceptron(points)\n",
    "        k_list.append(k)\n",
    "    k_ave = stat.mean(k_list)\n",
    "    k_SDM = stat.stdev(k_list) / math.sqrt(num_trials)\n",
    "    k_ave_list.append(k_ave)\n",
    "    k_SDM_list.append(k_SDM)\n",
    "\n",
    "time_plot_1 = plt.errorbar(N_list, k_ave_list, yerr=k_SDM_list, fmt='o', color='r')\n",
    "plt.title('')\n",
    "plt.xlabel('Number of data points')\n",
    "plt.ylabel('Number of weight vector adjustments')"
   ]
  },
  {
   "cell_type": "markdown",
   "metadata": {},
   "source": [
    "## Experiment 2: Number of weight vector adjustments vs Learning Rate"
   ]
  },
  {
   "cell_type": "code",
   "execution_count": 20,
   "metadata": {
    "collapsed": false
   },
   "outputs": [
    {
     "data": {
      "text/plain": [
       "<matplotlib.text.Text at 0x7fd89bc3c048>"
      ]
     },
     "execution_count": 20,
     "metadata": {},
     "output_type": "execute_result"
    },
    {
     "data": {
      "image/png": "[encoded data removed]",
      "text/plain": [
       "<matplotlib.figure.Figure at 0x7fd89bcf4470>"
      ]
     },
     "metadata": {},
     "output_type": "display_data"
    }
   ],
   "source": [
    "num_trials = 1000\n",
    "eta = 0\n",
    "eta_array = np.arange(0.1, 1.1, 0.1)\n",
    "i = 0\n",
    "\n",
    "N = 10\n",
    "n_ave_list_10 = []\n",
    "n_SDM_list_10 = []\n",
    "for eta in eta_array:\n",
    "    n_list = []\n",
    "    #eta_list.append(eta)\n",
    "    for i in range(num_trials):\n",
    "        points, m, b = data_faker(N, 1, 0, c=10, rand_div='no')\n",
    "        p_m, p_b, k, n = perceptron(points, eta=eta)\n",
    "        n_list.append(n)\n",
    "    n_ave = stat.mean(n_list)\n",
    "    n_SDM = stat.stdev(n_list) / math.sqrt(num_trials)\n",
    "    n_ave_list_10.append(n_ave)\n",
    "    n_SDM_list_10.append(n_SDM)\n",
    "\n",
    "plt.figure()\n",
    "N10_plot = plt.errorbar(eta_array, n_ave_list_10, yerr=n_SDM_list_10, fmt='o', color='r', label='N=10')\n",
    "plt.legend()\n",
    "plt.xlim(0.0, 1.1)\n",
    "plt.ylabel('Number of weight vector adjustments')\n",
    "plt.xlabel('Learning Rate')"
   ]
  },
  {
   "cell_type": "markdown",
   "metadata": {},
   "source": [
    "## Experiment 3: Number of weight vector adjustments vs Gamma "
   ]
  },
  {
   "cell_type": "code",
   "execution_count": 21,
   "metadata": {
    "collapsed": false
   },
   "outputs": [
    {
     "data": {
      "text/plain": [
       "(0, 50)"
      ]
     },
     "execution_count": 21,
     "metadata": {},
     "output_type": "execute_result"
    },
    {
     "data": {
      "image/png": "[encoded data removed]",
      "text/plain": [
       "<matplotlib.figure.Figure at 0x7fd89bb71ef0>"
      ]
     },
     "metadata": {},
     "output_type": "display_data"
    }
   ],
   "source": [
    "num_trials = 100\n",
    "gam = 0\n",
    "gam_array = np.arange(0.1, 3.1, 0.1)\n",
    "i = 0\n",
    "\n",
    "N = 50\n",
    "n_ave_list_50 = []\n",
    "n_SDM_list_50 = []\n",
    "for gam in gam_array:\n",
    "    n_list = []\n",
    "    for i in range(num_trials):\n",
    "        points, m, b = data_faker(N, 1, 0, c=10, gamma=gam, rand_div='yes')\n",
    "        p_m, p_b, k, n = perceptron(points)\n",
    "        n_list.append(n)\n",
    "    n_ave = stat.mean(n_list)\n",
    "    n_SDM = stat.stdev(n_list) / math.sqrt(num_trials)\n",
    "    n_ave_list_50.append(n_ave)\n",
    "    n_SDM_list_50.append(n_SDM)\n",
    "    \n",
    "# calculate the theoretical curve\n",
    "x_dummy = np.arange(0.1, 3.1, 0.1)\n",
    "y_dummy = np.empty(len(x_dummy))\n",
    "for i, x in enumerate(x_dummy):\n",
    "    y_dummy[i] = theoretical_function(0.5, gamma=x)\n",
    "    \n",
    "plt.figure()\n",
    "N50_plot = plt.errorbar(gam_array, n_ave_list_50, yerr=n_SDM_list_50, fmt='s', color='r', label='N=50')\n",
    "plt.legend()\n",
    "\n",
    "plt.plot(x_dummy, y_dummy, label='Theoretical Max Iterations')\n",
    "plt.legend()\n",
    "plt.ylabel('Number of weight vector adjustments')\n",
    "plt.xlabel('Gamma')\n",
    "plt.ylim(0,50)"
   ]
  },
  {
   "cell_type": "markdown",
   "metadata": {},
   "source": [
    "## Experiment 4: Difference between generating line and final perceptron line (in degrees)"
   ]
  },
  {
   "cell_type": "code",
   "execution_count": 22,
   "metadata": {
    "collapsed": true
   },
   "outputs": [],
   "source": [
    "def difference_between_lines(m1, b1, m2, b2):    \n",
    "    # calcualate angle between two lines:\n",
    "    if m1*m2 != -1:\n",
    "        tnAngle = (m1 - m2) / (1 + (m1*m2))\n",
    "        angle = math.atan(tnAngle)\n",
    "        angle = -1 * angle * 180/math.pi\n",
    "    else:\n",
    "        angle = 90.\n",
    "    angle_diff = math.sqrt(angle*angle)\n",
    "\n",
    "    # include difference in y-intercepts, if needed\n",
    "    # actual difference is typically negligible\n",
    "    interc_diff = math.sqrt((b2-b1)*(b2-b1))\n",
    "\n",
    "    total_diff = angle_diff + interc_diff\n",
    "    return(angle_diff, interc_diff)"
   ]
  },
  {
   "cell_type": "code",
   "execution_count": 23,
   "metadata": {
    "collapsed": false
   },
   "outputs": [
    {
     "data": {
      "text/plain": [
       "<matplotlib.text.Text at 0x7fd89bac29b0>"
      ]
     },
     "execution_count": 23,
     "metadata": {},
     "output_type": "execute_result"
    },
    {
     "data": {
      "image/png": "[encoded data removed]",
      "text/plain": [
       "<matplotlib.figure.Figure at 0x7fd89baad400>"
      ]
     },
     "metadata": {},
     "output_type": "display_data"
    }
   ],
   "source": [
    "N = 0\n",
    "N_list = []\n",
    "diff_ave_list_01 = []\n",
    "diff_SDM_list_01 = []\n",
    "i = 0\n",
    "num_trials = 1000\n",
    "for N in range(2, 20, 1):\n",
    "    diff_list = []\n",
    "    N_list.append(N)\n",
    "    for i in range(num_trials):\n",
    "        points, m, b = data_faker(N, 1, 0, c=10, gamma=0.1, rand_div='yes')\n",
    "        p_m, p_b, k, n = perceptron(points)\n",
    "        m_diff, b_diff = difference_between_lines(p_m, p_b, m, b)\n",
    "        diff_list.append(m_diff)\n",
    "    diff_ave = stat.mean(diff_list)\n",
    "    diff_SDM = stat.stdev(diff_list) / math.sqrt(num_trials)\n",
    "    diff_ave_list_01.append(diff_ave)\n",
    "    diff_SDM_list_01.append(diff_SDM)\n",
    "    \n",
    "\n",
    "diff_ave_list_05 = []\n",
    "diff_SDM_list_05 = []\n",
    "\n",
    "for N in range(2, 20, 1):\n",
    "    diff_list = []\n",
    "    for i in range(num_trials):\n",
    "        points, m, b = data_faker(N, 1, 0, c=10, gamma=0.5, rand_div='yes')\n",
    "        p_m, p_b, k, n = perceptron(points)\n",
    "        m_diff, b_diff = difference_between_lines(p_m, p_b, m, b)\n",
    "        diff_list.append(m_diff)\n",
    "    diff_ave = stat.mean(diff_list)\n",
    "    diff_SDM = stat.stdev(diff_list) / math.sqrt(num_trials)\n",
    "    diff_ave_list_05.append(diff_ave)\n",
    "    diff_SDM_list_05.append(diff_SDM)\n",
    "    \n",
    "\n",
    "diff_ave_list_3 = []\n",
    "diff_SDM_list_3 = []\n",
    "\n",
    "for N in range(2, 20, 1):\n",
    "    diff_list = []\n",
    "    for i in range(num_trials):\n",
    "        points, m, b = data_faker(N, 1, 0, c=10, gamma=3, rand_div='yes')\n",
    "        p_m, p_b, k, n = perceptron(points)\n",
    "        m_diff, b_diff = difference_between_lines(p_m, p_b, m, b)\n",
    "        diff_list.append(m_diff)\n",
    "    diff_ave = stat.mean(diff_list)\n",
    "    diff_SDM = stat.stdev(diff_list) / math.sqrt(num_trials)\n",
    "    diff_ave_list_3.append(diff_ave)\n",
    "    diff_SDM_list_3.append(diff_SDM)  \n",
    "    \n",
    "diff_ave_list_5 = []\n",
    "diff_SDM_list_5 = []\n",
    "\n",
    "for N in range(2, 20, 1):\n",
    "    diff_list = []\n",
    "    for i in range(num_trials):\n",
    "        points, m, b = data_faker(N, 1, 0, c=10, gamma=5, rand_div='yes')\n",
    "        p_m, p_b, k, n = perceptron(points)\n",
    "        m_diff, b_diff = difference_between_lines(p_m, p_b, m, b)\n",
    "        diff_list.append(m_diff)\n",
    "    diff_ave = stat.mean(diff_list)\n",
    "    diff_SDM = stat.stdev(diff_list) / math.sqrt(num_trials)\n",
    "    diff_ave_list_5.append(diff_ave)\n",
    "    diff_SDM_list_5.append(diff_SDM)\n",
    "    \n",
    "plt.figure()  \n",
    "diff_plot_01 = plt.errorbar(N_list, diff_ave_list_01, yerr=diff_SDM_list_01, fmt='o', color='b', label='Gamma=0.1')\n",
    "plt.legend()\n",
    "\n",
    "diff_plot_05 = plt.errorbar(N_list, diff_ave_list_05, yerr=diff_SDM_list_05, fmt='s', color='g', label='Gamma=0.5')\n",
    "plt.legend()\n",
    "\n",
    "diff_plot_1 = plt.errorbar(N_list, diff_ave_list_3, yerr=diff_SDM_list_3, fmt='^', color='r', label='Gamma=3')\n",
    "plt.legend()\n",
    "\n",
    "diff_plot_5 = plt.errorbar(N_list, diff_ave_list_5, yerr=diff_SDM_list_5, fmt='s', color='k', label='Gamma=5')\n",
    "plt.legend()\n",
    "\n",
    "plt.xlim(0,20)\n",
    "plt.ylabel('Angle between generating line and perceptron line')\n",
    "plt.xlabel('Number of data points')"
   ]
  }
 ],
 "metadata": {
  "anaconda-cloud": {},
  "kernelspec": {
   "display_name": "Python [py35]",
   "language": "python",
   "name": "Python [py35]"
  },
  "language_info": {
   "codemirror_mode": {
    "name": "ipython",
    "version": 3
   },
   "file_extension": ".py",
   "mimetype": "text/x-python",
   "name": "python",
   "nbconvert_exporter": "python",
   "pygments_lexer": "ipython3",
   "version": "3.5.2"
  }
 },
 "nbformat": 4,
 "nbformat_minor": 0
}
